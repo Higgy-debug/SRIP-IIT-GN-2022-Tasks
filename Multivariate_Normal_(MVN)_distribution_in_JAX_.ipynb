{
  "nbformat": 4,
  "nbformat_minor": 0,
  "metadata": {
    "colab": {
      "name": "Multivariate Normal (MVN) distribution in JAX..ipynb",
      "provenance": []
    },
    "kernelspec": {
      "name": "python3",
      "display_name": "Python 3"
    },
    "language_info": {
      "name": "python"
    }
  },
  "cells": [
    {
      "cell_type": "code",
      "execution_count": 2,
      "metadata": {
        "colab": {
          "base_uri": "https://localhost:8080/"
        },
        "id": "D7vHCnD6x_zY",
        "outputId": "3ecefcf1-f979-4eef-ae36-5616ccb12c43"
      },
      "outputs": [
        {
          "output_type": "stream",
          "name": "stderr",
          "text": [
            "WARNING:absl:No GPU/TPU found, falling back to CPU. (Set TF_CPP_MIN_LOG_LEVEL=0 and rerun for more info.)\n"
          ]
        }
      ],
      "source": [
        "from jax import random\n",
        "\n",
        "import jax\n",
        "import jax.numpy as jnp\n",
        "import numpy as np\n",
        "\n",
        "key = random.PRNGKey(0)\n",
        "cov = np.array([[1.2, 0.4], [0.4, 1.0]])\n",
        "mean = np.array([3,-1])\n",
        "x1,x2 = jax.random.multivariate_normal(key, mean, cov, (5000,)).T"
      ]
    }
  ]
}